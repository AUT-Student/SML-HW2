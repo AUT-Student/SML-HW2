{
  "nbformat": 4,
  "nbformat_minor": 0,
  "metadata": {
    "colab": {
      "provenance": [],
      "toc_visible": true,
      "authorship_tag": "ABX9TyMhDBu0nOU5VPaAE2R0Od2E",
      "include_colab_link": true
    },
    "kernelspec": {
      "name": "python3",
      "display_name": "Python 3"
    },
    "language_info": {
      "name": "python"
    }
  },
  "cells": [
    {
      "cell_type": "markdown",
      "metadata": {
        "id": "view-in-github",
        "colab_type": "text"
      },
      "source": [
        "<a href=\"https://colab.research.google.com/github/AUT-Student/SML-HW2/blob/main/SML_HW2_Q7.ipynb\" target=\"_parent\"><img src=\"https://colab.research.google.com/assets/colab-badge.svg\" alt=\"Open In Colab\"/></a>"
      ]
    },
    {
      "cell_type": "markdown",
      "source": [
        "<center><b>In the name of God</b></center>\n",
        "\n",
        "<b>Course</b>: Statistical Machine Learning\n",
        "<br>\n",
        "<b>Description:</b> HomeWork 2 | Question 7\n",
        "<br>\n",
        "<b>Developer</b>: Alireza Mazochi (400131075)"
      ],
      "metadata": {
        "id": "6iAzUvILG8Q3"
      }
    },
    {
      "cell_type": "code",
      "execution_count": 1,
      "metadata": {
        "id": "Ut4FVxegGkSW"
      },
      "outputs": [],
      "source": [
        "import pandas as pd\n",
        "import numpy as np\n",
        "import random\n",
        "import matplotlib.pyplot as plt\n",
        "from scipy.special import ndtri\n",
        "from scipy.stats import norm"
      ]
    },
    {
      "cell_type": "markdown",
      "source": [
        "# Dataset"
      ],
      "metadata": {
        "id": "JT2uVEgaShEB"
      }
    },
    {
      "cell_type": "code",
      "source": [
        "positive_number = 997\n",
        "negative_number = 922"
      ],
      "metadata": {
        "id": "caA-PIW1HAZ9"
      },
      "execution_count": 2,
      "outputs": []
    },
    {
      "cell_type": "code",
      "source": [
        "dataset = [0]*negative_number + [1]*positive_number"
      ],
      "metadata": {
        "id": "clMBCTbBIIul"
      },
      "execution_count": 3,
      "outputs": []
    },
    {
      "cell_type": "code",
      "source": [
        "g = lambda samples: sum(samples)/len(samples)"
      ],
      "metadata": {
        "id": "48ZXA296ICKz"
      },
      "execution_count": 4,
      "outputs": []
    },
    {
      "cell_type": "markdown",
      "source": [
        "# Wald Test"
      ],
      "metadata": {
        "id": "K01lf1ESTRLo"
      }
    },
    {
      "cell_type": "code",
      "source": [
        "n = positive_number+negative_number\n",
        "theta_hat = positive_number / n\n",
        "se = (theta_hat*(1-theta_hat)/n) ** 0.5"
      ],
      "metadata": {
        "id": "hGvqagW_M0hf"
      },
      "execution_count": 5,
      "outputs": []
    },
    {
      "cell_type": "code",
      "source": [
        "theta_0 = 0.5\n",
        "alpha = 0.05\n",
        "z = ndtri(1-alpha/2)"
      ],
      "metadata": {
        "id": "hVkCzDbYpKIq"
      },
      "execution_count": 8,
      "outputs": []
    },
    {
      "cell_type": "code",
      "source": [
        "print(f\"Theta hat = {theta_hat}, se = {se}\")"
      ],
      "metadata": {
        "colab": {
          "base_uri": "https://localhost:8080/"
        },
        "id": "SkU-XGcTNMeG",
        "outputId": "e931c0a0-7771-464e-f6e1-0cdc6495bc2f"
      },
      "execution_count": 6,
      "outputs": [
        {
          "output_type": "stream",
          "name": "stdout",
          "text": [
            "Theta hat = 0.5195414278269932, se = 0.011405138868050746\n"
          ]
        }
      ]
    },
    {
      "cell_type": "code",
      "source": [
        "W = (theta_hat - theta_0)/se\n",
        "print(f\"W = {W}\")"
      ],
      "metadata": {
        "colab": {
          "base_uri": "https://localhost:8080/"
        },
        "id": "bwZU70zAKTbD",
        "outputId": "c9adac0e-e8ce-4442-9206-e05948e17849"
      },
      "execution_count": 11,
      "outputs": [
        {
          "output_type": "stream",
          "name": "stdout",
          "text": [
            "W = 1.7133879782678196\n"
          ]
        }
      ]
    },
    {
      "cell_type": "code",
      "source": [
        "if W>z:\n",
        "  print(\"H0 Rejected!\")\n",
        "else:\n",
        "  print(\"H0 Retained!\")"
      ],
      "metadata": {
        "colab": {
          "base_uri": "https://localhost:8080/"
        },
        "id": "GtWoqMkyT2dX",
        "outputId": "95601b00-3ba7-451e-dc57-09b47f7b8203"
      },
      "execution_count": 16,
      "outputs": [
        {
          "output_type": "stream",
          "name": "stdout",
          "text": [
            "H0 Retained!\n"
          ]
        }
      ]
    },
    {
      "cell_type": "code",
      "source": [
        "print(f\"p-value = {norm.pdf(W)}\")"
      ],
      "metadata": {
        "colab": {
          "base_uri": "https://localhost:8080/"
        },
        "id": "xdnQnINJKUVL",
        "outputId": "fbb31699-5bcf-44a0-eac6-d4dc38698b57"
      },
      "execution_count": 13,
      "outputs": [
        {
          "output_type": "stream",
          "name": "stdout",
          "text": [
            "p-value = 0.09192449777407867\n"
          ]
        }
      ]
    },
    {
      "cell_type": "code",
      "source": [
        "print(\"Confident Interval:\", theta_hat - z*se, theta_hat + z*se) "
      ],
      "metadata": {
        "colab": {
          "base_uri": "https://localhost:8080/"
        },
        "id": "0o9kC3IbK46N",
        "outputId": "2cf21c00-9ce1-4afe-cc73-3f3f2a5c02b8"
      },
      "execution_count": 14,
      "outputs": [
        {
          "output_type": "stream",
          "name": "stdout",
          "text": [
            "Confident Interval: 0.4971877664069358 0.5418950892470505\n"
          ]
        }
      ]
    },
    {
      "cell_type": "code",
      "source": [],
      "metadata": {
        "id": "B6Zp3525NoI4"
      },
      "execution_count": null,
      "outputs": []
    }
  ]
}