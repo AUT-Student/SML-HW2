{
  "nbformat": 4,
  "nbformat_minor": 0,
  "metadata": {
    "colab": {
      "provenance": [],
      "toc_visible": true,
      "authorship_tag": "ABX9TyPOU0Y6DHQisJk5ZIKvDy3N",
      "include_colab_link": true
    },
    "kernelspec": {
      "name": "python3",
      "display_name": "Python 3"
    },
    "language_info": {
      "name": "python"
    }
  },
  "cells": [
    {
      "cell_type": "markdown",
      "metadata": {
        "id": "view-in-github",
        "colab_type": "text"
      },
      "source": [
        "<a href=\"https://colab.research.google.com/github/AUT-Student/SML-HW2/blob/main/SML_HW2_Q3.ipynb\" target=\"_parent\"><img src=\"https://colab.research.google.com/assets/colab-badge.svg\" alt=\"Open In Colab\"/></a>"
      ]
    },
    {
      "cell_type": "markdown",
      "source": [
        "<center><b>In the name of God</b></center>\n",
        "\n",
        "<b>Course</b>: Statistical Machine Learning\n",
        "<br>\n",
        "<b>Description:</b> HomeWork 2 | Question 3\n",
        "<br>\n",
        "<b>Developer</b>: Alireza Mazochi (400131075)"
      ],
      "metadata": {
        "id": "thlrSNxPbV8i"
      }
    },
    {
      "cell_type": "code",
      "execution_count": 16,
      "metadata": {
        "id": "K6KT-aXWbVVQ"
      },
      "outputs": [],
      "source": [
        "import pandas as pd\n",
        "import numpy as np\n",
        "import random\n",
        "import matplotlib.pyplot as plt\n",
        "import bisect"
      ]
    },
    {
      "cell_type": "markdown",
      "source": [
        "# Dataset"
      ],
      "metadata": {
        "id": "DlGCXmozoN5P"
      }
    },
    {
      "cell_type": "code",
      "source": [
        "!gdown 1C3-EiTRDvlFGY_IdBNsb_ixlVlyq6mCp\n",
        "!unzip /content/SML_HW2_dataset.zip"
      ],
      "metadata": {
        "colab": {
          "base_uri": "https://localhost:8080/"
        },
        "id": "uZ9okQRybkL0",
        "outputId": "9ef3f87d-0934-447c-90be-f766728376ec"
      },
      "execution_count": 2,
      "outputs": [
        {
          "output_type": "stream",
          "name": "stdout",
          "text": [
            "Downloading...\n",
            "From: https://drive.google.com/uc?id=1C3-EiTRDvlFGY_IdBNsb_ixlVlyq6mCp\n",
            "To: /content/SML_HW2_dataset.zip\n",
            "\r  0% 0.00/14.0k [00:00<?, ?B/s]\r100% 14.0k/14.0k [00:00<00:00, 18.7MB/s]\n",
            "Archive:  /content/SML_HW2_dataset.zip\n",
            "   creating: Datasets/\n",
            "   creating: Datasets/earthquake fiji/\n",
            "  inflating: Datasets/earthquake fiji/details.txt  \n",
            "  inflating: Datasets/earthquake fiji/quakes.csv  \n",
            "  inflating: Datasets/old Faithful.zip  \n",
            "Archive:  /content/Datasets/old Faithful.zip\n",
            "  inflating: faithful.csv            \n"
          ]
        }
      ]
    },
    {
      "cell_type": "code",
      "source": [
        "!cat /content/Datasets/earthquake\\ fiji/details.txt"
      ],
      "metadata": {
        "colab": {
          "base_uri": "https://localhost:8080/"
        },
        "id": "KDsRKBJYbyxP",
        "outputId": "6c802946-b6a7-4ff5-9a27-fb6ddab87e15"
      },
      "execution_count": 3,
      "outputs": [
        {
          "output_type": "stream",
          "name": "stdout",
          "text": [
            "Locations of Earthquakes off Fiji\r\n",
            "\r\n",
            "Description:\r\n",
            "\r\n",
            "     The data set give the locations of 1000 seismic events of MB >\r\n",
            "     4.0. The events occurred in a cube near Fiji since 1964.\r\n",
            "\r\n",
            "Usage:\r\n",
            "\r\n",
            "     quakes\r\n",
            "\r\n",
            "Format:\r\n",
            "\r\n",
            "     A data frame with 1000 observations on 5 variables.\r\n",
            "\r\n",
            "       [,1]  lat       numeric  Latitude of event\r\n",
            "       [,2]  long      numeric  Longitude\r\n",
            "       [,3]  depth     numeric  Depth (km)\r\n",
            "       [,4]  mag       numeric  Richter Magnitude\r\n",
            "       [,5]  stations  numeric  Number of stations reporting\r\n",
            "\r\n",
            "Details:\r\n",
            ": \r\n",
            "\r\n",
            "     There are two clear planes of seismic activity.  One is a major\r\n",
            "     plate junction; the other is the Tonga trench off New Zealand. \r\n",
            "     These data constitute a subsample from a larger dataset of\r\n",
            "     containing 5000 observations.\r\n",
            "\r\n",
            "Source:\r\n",
            "\r\n",
            "     This is one of the Harvard PRIM-H project data sets.  They in turn\r\n",
            "     obtained it from Dr. John Woodhouse, Dept. of Geophysics, Harvard\r\n",
            "     University.\r\n"
          ]
        }
      ]
    },
    {
      "cell_type": "code",
      "source": [
        "dataset = pd.read_csv(\"/content/Datasets/earthquake fiji/quakes.csv\", index_col=0)"
      ],
      "metadata": {
        "id": "6vy-RA4Vb-vC"
      },
      "execution_count": 7,
      "outputs": []
    },
    {
      "cell_type": "code",
      "source": [
        "dataset"
      ],
      "metadata": {
        "colab": {
          "base_uri": "https://localhost:8080/",
          "height": 424
        },
        "id": "Smi2Z85ccDTU",
        "outputId": "ed750851-d42f-461b-90dc-31156ecceb8f"
      },
      "execution_count": 8,
      "outputs": [
        {
          "output_type": "execute_result",
          "data": {
            "text/plain": [
              "        lat    long  depth  mag  stations\n",
              "1    -20.42  181.62    562  4.8        41\n",
              "2    -20.62  181.03    650  4.2        15\n",
              "3    -26.00  184.10     42  5.4        43\n",
              "4    -17.97  181.66    626  4.1        19\n",
              "5    -20.42  181.96    649  4.0        11\n",
              "...     ...     ...    ...  ...       ...\n",
              "996  -25.93  179.54    470  4.4        22\n",
              "997  -12.28  167.06    248  4.7        35\n",
              "998  -20.13  184.20    244  4.5        34\n",
              "999  -17.40  187.80     40  4.5        14\n",
              "1000 -21.59  170.56    165  6.0       119\n",
              "\n",
              "[1000 rows x 5 columns]"
            ],
            "text/html": [
              "\n",
              "  <div id=\"df-4d1b4a4e-dc63-4360-8e85-f4552bba5a68\">\n",
              "    <div class=\"colab-df-container\">\n",
              "      <div>\n",
              "<style scoped>\n",
              "    .dataframe tbody tr th:only-of-type {\n",
              "        vertical-align: middle;\n",
              "    }\n",
              "\n",
              "    .dataframe tbody tr th {\n",
              "        vertical-align: top;\n",
              "    }\n",
              "\n",
              "    .dataframe thead th {\n",
              "        text-align: right;\n",
              "    }\n",
              "</style>\n",
              "<table border=\"1\" class=\"dataframe\">\n",
              "  <thead>\n",
              "    <tr style=\"text-align: right;\">\n",
              "      <th></th>\n",
              "      <th>lat</th>\n",
              "      <th>long</th>\n",
              "      <th>depth</th>\n",
              "      <th>mag</th>\n",
              "      <th>stations</th>\n",
              "    </tr>\n",
              "  </thead>\n",
              "  <tbody>\n",
              "    <tr>\n",
              "      <th>1</th>\n",
              "      <td>-20.42</td>\n",
              "      <td>181.62</td>\n",
              "      <td>562</td>\n",
              "      <td>4.8</td>\n",
              "      <td>41</td>\n",
              "    </tr>\n",
              "    <tr>\n",
              "      <th>2</th>\n",
              "      <td>-20.62</td>\n",
              "      <td>181.03</td>\n",
              "      <td>650</td>\n",
              "      <td>4.2</td>\n",
              "      <td>15</td>\n",
              "    </tr>\n",
              "    <tr>\n",
              "      <th>3</th>\n",
              "      <td>-26.00</td>\n",
              "      <td>184.10</td>\n",
              "      <td>42</td>\n",
              "      <td>5.4</td>\n",
              "      <td>43</td>\n",
              "    </tr>\n",
              "    <tr>\n",
              "      <th>4</th>\n",
              "      <td>-17.97</td>\n",
              "      <td>181.66</td>\n",
              "      <td>626</td>\n",
              "      <td>4.1</td>\n",
              "      <td>19</td>\n",
              "    </tr>\n",
              "    <tr>\n",
              "      <th>5</th>\n",
              "      <td>-20.42</td>\n",
              "      <td>181.96</td>\n",
              "      <td>649</td>\n",
              "      <td>4.0</td>\n",
              "      <td>11</td>\n",
              "    </tr>\n",
              "    <tr>\n",
              "      <th>...</th>\n",
              "      <td>...</td>\n",
              "      <td>...</td>\n",
              "      <td>...</td>\n",
              "      <td>...</td>\n",
              "      <td>...</td>\n",
              "    </tr>\n",
              "    <tr>\n",
              "      <th>996</th>\n",
              "      <td>-25.93</td>\n",
              "      <td>179.54</td>\n",
              "      <td>470</td>\n",
              "      <td>4.4</td>\n",
              "      <td>22</td>\n",
              "    </tr>\n",
              "    <tr>\n",
              "      <th>997</th>\n",
              "      <td>-12.28</td>\n",
              "      <td>167.06</td>\n",
              "      <td>248</td>\n",
              "      <td>4.7</td>\n",
              "      <td>35</td>\n",
              "    </tr>\n",
              "    <tr>\n",
              "      <th>998</th>\n",
              "      <td>-20.13</td>\n",
              "      <td>184.20</td>\n",
              "      <td>244</td>\n",
              "      <td>4.5</td>\n",
              "      <td>34</td>\n",
              "    </tr>\n",
              "    <tr>\n",
              "      <th>999</th>\n",
              "      <td>-17.40</td>\n",
              "      <td>187.80</td>\n",
              "      <td>40</td>\n",
              "      <td>4.5</td>\n",
              "      <td>14</td>\n",
              "    </tr>\n",
              "    <tr>\n",
              "      <th>1000</th>\n",
              "      <td>-21.59</td>\n",
              "      <td>170.56</td>\n",
              "      <td>165</td>\n",
              "      <td>6.0</td>\n",
              "      <td>119</td>\n",
              "    </tr>\n",
              "  </tbody>\n",
              "</table>\n",
              "<p>1000 rows × 5 columns</p>\n",
              "</div>\n",
              "      <button class=\"colab-df-convert\" onclick=\"convertToInteractive('df-4d1b4a4e-dc63-4360-8e85-f4552bba5a68')\"\n",
              "              title=\"Convert this dataframe to an interactive table.\"\n",
              "              style=\"display:none;\">\n",
              "        \n",
              "  <svg xmlns=\"http://www.w3.org/2000/svg\" height=\"24px\"viewBox=\"0 0 24 24\"\n",
              "       width=\"24px\">\n",
              "    <path d=\"M0 0h24v24H0V0z\" fill=\"none\"/>\n",
              "    <path d=\"M18.56 5.44l.94 2.06.94-2.06 2.06-.94-2.06-.94-.94-2.06-.94 2.06-2.06.94zm-11 1L8.5 8.5l.94-2.06 2.06-.94-2.06-.94L8.5 2.5l-.94 2.06-2.06.94zm10 10l.94 2.06.94-2.06 2.06-.94-2.06-.94-.94-2.06-.94 2.06-2.06.94z\"/><path d=\"M17.41 7.96l-1.37-1.37c-.4-.4-.92-.59-1.43-.59-.52 0-1.04.2-1.43.59L10.3 9.45l-7.72 7.72c-.78.78-.78 2.05 0 2.83L4 21.41c.39.39.9.59 1.41.59.51 0 1.02-.2 1.41-.59l7.78-7.78 2.81-2.81c.8-.78.8-2.07 0-2.86zM5.41 20L4 18.59l7.72-7.72 1.47 1.35L5.41 20z\"/>\n",
              "  </svg>\n",
              "      </button>\n",
              "      \n",
              "  <style>\n",
              "    .colab-df-container {\n",
              "      display:flex;\n",
              "      flex-wrap:wrap;\n",
              "      gap: 12px;\n",
              "    }\n",
              "\n",
              "    .colab-df-convert {\n",
              "      background-color: #E8F0FE;\n",
              "      border: none;\n",
              "      border-radius: 50%;\n",
              "      cursor: pointer;\n",
              "      display: none;\n",
              "      fill: #1967D2;\n",
              "      height: 32px;\n",
              "      padding: 0 0 0 0;\n",
              "      width: 32px;\n",
              "    }\n",
              "\n",
              "    .colab-df-convert:hover {\n",
              "      background-color: #E2EBFA;\n",
              "      box-shadow: 0px 1px 2px rgba(60, 64, 67, 0.3), 0px 1px 3px 1px rgba(60, 64, 67, 0.15);\n",
              "      fill: #174EA6;\n",
              "    }\n",
              "\n",
              "    [theme=dark] .colab-df-convert {\n",
              "      background-color: #3B4455;\n",
              "      fill: #D2E3FC;\n",
              "    }\n",
              "\n",
              "    [theme=dark] .colab-df-convert:hover {\n",
              "      background-color: #434B5C;\n",
              "      box-shadow: 0px 1px 3px 1px rgba(0, 0, 0, 0.15);\n",
              "      filter: drop-shadow(0px 1px 2px rgba(0, 0, 0, 0.3));\n",
              "      fill: #FFFFFF;\n",
              "    }\n",
              "  </style>\n",
              "\n",
              "      <script>\n",
              "        const buttonEl =\n",
              "          document.querySelector('#df-4d1b4a4e-dc63-4360-8e85-f4552bba5a68 button.colab-df-convert');\n",
              "        buttonEl.style.display =\n",
              "          google.colab.kernel.accessAllowed ? 'block' : 'none';\n",
              "\n",
              "        async function convertToInteractive(key) {\n",
              "          const element = document.querySelector('#df-4d1b4a4e-dc63-4360-8e85-f4552bba5a68');\n",
              "          const dataTable =\n",
              "            await google.colab.kernel.invokeFunction('convertToInteractive',\n",
              "                                                     [key], {});\n",
              "          if (!dataTable) return;\n",
              "\n",
              "          const docLinkHtml = 'Like what you see? Visit the ' +\n",
              "            '<a target=\"_blank\" href=https://colab.research.google.com/notebooks/data_table.ipynb>data table notebook</a>'\n",
              "            + ' to learn more about interactive tables.';\n",
              "          element.innerHTML = '';\n",
              "          dataTable['output_type'] = 'display_data';\n",
              "          await google.colab.output.renderOutput(dataTable, element);\n",
              "          const docLink = document.createElement('div');\n",
              "          docLink.innerHTML = docLinkHtml;\n",
              "          element.appendChild(docLink);\n",
              "        }\n",
              "      </script>\n",
              "    </div>\n",
              "  </div>\n",
              "  "
            ]
          },
          "metadata": {},
          "execution_count": 8
        }
      ]
    },
    {
      "cell_type": "code",
      "source": [
        "mags = dataset[\"mag\"].values"
      ],
      "metadata": {
        "id": "LGhq54MqcTJp"
      },
      "execution_count": 10,
      "outputs": []
    },
    {
      "cell_type": "code",
      "source": [
        "mags.sort()"
      ],
      "metadata": {
        "id": "IArjGs2XcXA9"
      },
      "execution_count": 14,
      "outputs": []
    },
    {
      "cell_type": "markdown",
      "source": [
        "# Empritical CDF"
      ],
      "metadata": {
        "id": "ad-l6-kVoRPF"
      }
    },
    {
      "cell_type": "code",
      "source": [
        "def estimated_cdf(sorted_samples, x):\n",
        "  n = len(sorted_samples)\n",
        "  return bisect.bisect_right(sorted_samples, x) / 1000"
      ],
      "metadata": {
        "id": "88avV6EYddeS"
      },
      "execution_count": 39,
      "outputs": []
    },
    {
      "cell_type": "code",
      "source": [
        "mags[0], mags[-1]"
      ],
      "metadata": {
        "colab": {
          "base_uri": "https://localhost:8080/"
        },
        "id": "78H6yOSyfecV",
        "outputId": "a0400878-47cc-4412-e0a9-0a83507fff01"
      },
      "execution_count": 40,
      "outputs": [
        {
          "output_type": "execute_result",
          "data": {
            "text/plain": [
              "(4.0, 6.4)"
            ]
          },
          "metadata": {},
          "execution_count": 40
        }
      ]
    },
    {
      "cell_type": "code",
      "source": [
        "x = np.linspace(3.8, 6.6, 1000)\n",
        "y = np.array(list(map(lambda x:estimated_cdf(mags, x), x)))\n",
        "plt.xlabel(\"x\")\n",
        "plt.ylabel(\"CDF\")\n",
        "plt.title(\"Empirical CDF\")\n",
        "plt.plot(x,y,c=\"green\")\n",
        "plt.gcf().set_size_inches(10,4)\n",
        "plt.show()"
      ],
      "metadata": {
        "colab": {
          "base_uri": "https://localhost:8080/",
          "height": 295
        },
        "id": "4lJxKCUZfLHY",
        "outputId": "feb2d092-9ed4-4a52-c293-24dbeae19cc6"
      },
      "execution_count": 41,
      "outputs": [
        {
          "output_type": "display_data",
          "data": {
            "text/plain": [
              "<Figure size 720x288 with 1 Axes>"
            ],
            "image/png": "[encoded data removed]"
          },
          "metadata": {
            "needs_background": "light"
          }
        }
      ]
    },
    {
      "cell_type": "markdown",
      "source": [
        "# CDF Band"
      ],
      "metadata": {
        "id": "q6NEQ6qkoUqW"
      }
    },
    {
      "cell_type": "code",
      "source": [
        "def estimated_cdf_band(sorted_samples, x, alpha=0.05):\n",
        "  alpha = 0.05\n",
        "  n = len(sorted_samples)\n",
        "  epsilon = (1/(2*n)*np.log(2/alpha))**0.5\n",
        "\n",
        "  L_x = max(estimated_cdf(sorted_samples, x)-epsilon, 0)\n",
        "  U_x = min(estimated_cdf(sorted_samples, x)+epsilon, 1) \n",
        "\n",
        "  return L_x, U_x"
      ],
      "metadata": {
        "id": "FyXzjVh2gSI6"
      },
      "execution_count": 46,
      "outputs": []
    },
    {
      "cell_type": "code",
      "source": [
        "x = np.linspace(3.8, 6.6, 1000)\n",
        "y = np.array(list(map(lambda x:estimated_cdf(mags, x), x)))\n",
        "y_l = np.array(list(map(lambda x:estimated_cdf_band(mags, x)[0], x)))\n",
        "y_u = np.array(list(map(lambda x:estimated_cdf_band(mags, x)[1], x)))\n",
        "\n",
        "plt.xlabel(\"x\")\n",
        "plt.ylabel(\"CDF\")\n",
        "plt.title(\"Bounds for Empirical CDF\")\n",
        "plt.plot(x, y, c=\"black\", label=\"Empirical CDF\")\n",
        "plt.plot(x, y_l, \"--\", c=\"red\", alpha=0.5, label=\"Lower Bound\")\n",
        "plt.plot(x, y_u, \"--\", c=\"green\", alpha=0.5, label=\"Upper Bound\")\n",
        "plt.legend()\n",
        "plt.gcf().set_size_inches(10,4)\n",
        "plt.show()"
      ],
      "metadata": {
        "colab": {
          "base_uri": "https://localhost:8080/",
          "height": 295
        },
        "id": "1jGU6F8Vjj2T",
        "outputId": "358336ef-17f5-46fc-b2b3-32063be15ffb"
      },
      "execution_count": 57,
      "outputs": [
        {
          "output_type": "display_data",
          "data": {
            "text/plain": [
              "<Figure size 720x288 with 1 Axes>"
            ],
            "image/png": "[encoded data removed]"
          },
          "metadata": {
            "needs_background": "light"
          }
        }
      ]
    },
    {
      "cell_type": "markdown",
      "source": [
        "# Confidence Interval"
      ],
      "metadata": {
        "id": "kM0mKxOHoaR1"
      }
    },
    {
      "cell_type": "code",
      "source": [
        "def bootstrap(samples, g, B=100):\n",
        "  T_stars = []\n",
        "  n = len(samples)\n",
        "  for _ in range(B):\n",
        "    bootstrap_samples = np.array(random.choices(samples, k=n))\n",
        "    T_star = g(bootstrap_samples)\n",
        "    T_stars.append(T_star)\n",
        "\n",
        "  T_stars = np.array(T_stars)\n",
        "  bootstrap_variance = T_stars.var()\n",
        "\n",
        "  return bootstrap_variance"
      ],
      "metadata": {
        "id": "HuurF6SkkNxw"
      },
      "execution_count": 59,
      "outputs": []
    },
    {
      "cell_type": "code",
      "source": [
        "g = lambda samples: estimated_cdf(sorted(samples), 4.9) - estimated_cdf(sorted(samples), 4.3)"
      ],
      "metadata": {
        "id": "AgoSxyIZoLLa"
      },
      "execution_count": 60,
      "outputs": []
    },
    {
      "cell_type": "code",
      "source": [
        "bootstrap_se = bootstrap(mags, g)**0.5\n",
        "g_estimation = g(mags)"
      ],
      "metadata": {
        "id": "69qfehNLqUpY"
      },
      "execution_count": 69,
      "outputs": []
    },
    {
      "cell_type": "markdown",
      "source": [
        "## Normal"
      ],
      "metadata": {
        "id": "zC0ATFIy1ACi"
      }
    },
    {
      "cell_type": "code",
      "source": [
        "print(f\"Estimation = {g_estimation}, se = {bootstrap_se}\")"
      ],
      "metadata": {
        "colab": {
          "base_uri": "https://localhost:8080/"
        },
        "id": "Yig_jVwvo1iz",
        "outputId": "6c8e4a10-d945-4955-b161-4864530f2fc5"
      },
      "execution_count": 70,
      "outputs": [
        {
          "output_type": "stream",
          "name": "stdout",
          "text": [
            "Estimation = 0.526, se = 0.0155683139742234\n"
          ]
        }
      ]
    },
    {
      "cell_type": "code",
      "source": [
        "z = 1.65 # Z_alpha/2 = 0.05  "
      ],
      "metadata": {
        "id": "hVkCzDbYpKIq"
      },
      "execution_count": 71,
      "outputs": []
    },
    {
      "cell_type": "code",
      "source": [
        "print(g_estimation - bootstrap_se, g_estimation + bootstrap_se) "
      ],
      "metadata": {
        "colab": {
          "base_uri": "https://localhost:8080/"
        },
        "id": "gABEfr4qqSbk",
        "outputId": "6e1667a5-2e05-4a47-ad74-2c9e432c279f"
      },
      "execution_count": 72,
      "outputs": [
        {
          "output_type": "stream",
          "name": "stdout",
          "text": [
            "0.5104316860257766 0.5415683139742234\n"
          ]
        }
      ]
    },
    {
      "cell_type": "markdown",
      "source": [
        "## Percentile Interval"
      ],
      "metadata": {
        "id": "b5XOvHFs1CEE"
      }
    },
    {
      "cell_type": "code",
      "source": [
        "def bootstrap_percentile_interval(samples, g, B=1000, alpha=0.05):\n",
        "  T_stars = []\n",
        "  n = len(samples)\n",
        "  for _ in range(B):\n",
        "    bootstrap_samples = np.array(random.choices(samples, k=n))\n",
        "    T_star = g(bootstrap_samples)\n",
        "    T_stars.append(T_star)\n",
        "\n",
        "  T_stars = np.array(T_stars)\n",
        "  T_stars.sort()\n",
        "\n",
        "  a = T_stars[int(alpha/2*B)]\n",
        "  b = T_stars[-int(alpha/2*B)]\n",
        "  return a, b"
      ],
      "metadata": {
        "id": "4JWIRsV4qp7j"
      },
      "execution_count": 76,
      "outputs": []
    },
    {
      "cell_type": "code",
      "source": [
        "bootstrap_percentile_interval(mags, g)"
      ],
      "metadata": {
        "colab": {
          "base_uri": "https://localhost:8080/"
        },
        "id": "yU3XVVO4zvnp",
        "outputId": "89ad6907-b1d8-4cfe-883f-0dd112650071"
      },
      "execution_count": 77,
      "outputs": [
        {
          "output_type": "execute_result",
          "data": {
            "text/plain": [
              "(0.494, 0.5569999999999999)"
            ]
          },
          "metadata": {},
          "execution_count": 77
        }
      ]
    },
    {
      "cell_type": "markdown",
      "source": [
        "## Pivotal Interval"
      ],
      "metadata": {
        "id": "BbMUEtNP1FFn"
      }
    },
    {
      "cell_type": "code",
      "source": [
        "def bootstrap_pivotal_interval(samples, g, B=1000, alpha=0.05):\n",
        "  T_stars = []\n",
        "  n = len(samples)\n",
        "  for _ in range(B):\n",
        "    bootstrap_samples = np.array(random.choices(samples, k=n))\n",
        "    T_star = g(bootstrap_samples)\n",
        "    T_stars.append(T_star)\n",
        "\n",
        "  T_stars = np.array(T_stars)\n",
        "  T_stars.sort()\n",
        "\n",
        "  a = 2*g(samples) - T_stars[-int(alpha/2*B)]\n",
        "  b = 2*g(samples) - T_stars[int(alpha/2*B)]\n",
        "  return a, b"
      ],
      "metadata": {
        "id": "8Mee-egtz0AN"
      },
      "execution_count": 79,
      "outputs": []
    },
    {
      "cell_type": "code",
      "source": [
        "bootstrap_pivotal_interval(mags, g)"
      ],
      "metadata": {
        "colab": {
          "base_uri": "https://localhost:8080/"
        },
        "id": "rq6scIZH2t9z",
        "outputId": "42ad2334-5276-4caa-f900-67b14204ab05"
      },
      "execution_count": 80,
      "outputs": [
        {
          "output_type": "execute_result",
          "data": {
            "text/plain": [
              "(0.4950000000000001, 0.556)"
            ]
          },
          "metadata": {},
          "execution_count": 80
        }
      ]
    },
    {
      "cell_type": "code",
      "source": [],
      "metadata": {
        "id": "YYpP8ctM2_GA"
      },
      "execution_count": null,
      "outputs": []
    }
  ]
}