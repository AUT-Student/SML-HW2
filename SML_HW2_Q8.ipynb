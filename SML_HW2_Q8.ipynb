{
  "nbformat": 4,
  "nbformat_minor": 0,
  "metadata": {
    "colab": {
      "provenance": [],
      "toc_visible": true,
      "authorship_tag": "ABX9TyMLXNEqByiAAD2/ab0SIEr0",
      "include_colab_link": true
    },
    "kernelspec": {
      "name": "python3",
      "display_name": "Python 3"
    },
    "language_info": {
      "name": "python"
    }
  },
  "cells": [
    {
      "cell_type": "markdown",
      "metadata": {
        "id": "view-in-github",
        "colab_type": "text"
      },
      "source": [
        "<a href=\"https://colab.research.google.com/github/AUT-Student/SML-HW2/blob/main/SML_HW2_Q8.ipynb\" target=\"_parent\"><img src=\"https://colab.research.google.com/assets/colab-badge.svg\" alt=\"Open In Colab\"/></a>"
      ]
    },
    {
      "cell_type": "markdown",
      "source": [
        "<center><b>In the name of God</b></center>\n",
        "\n",
        "<b>Course</b>: Statistical Machine Learning\n",
        "<br>\n",
        "<b>Description:</b> HomeWork 2 | Question 8\n",
        "<br>\n",
        "<b>Developer</b>: Alireza Mazochi (400131075)"
      ],
      "metadata": {
        "id": "EQj_D0byVIEp"
      }
    },
    {
      "cell_type": "code",
      "execution_count": 39,
      "metadata": {
        "id": "Hx1_xOIiVDlk"
      },
      "outputs": [],
      "source": [
        "import pandas as pd\n",
        "import numpy as np\n",
        "import matplotlib.pyplot as plt\n",
        "from scipy.special import ndtri"
      ]
    },
    {
      "cell_type": "code",
      "source": [
        "np.random.seed(0)"
      ],
      "metadata": {
        "id": "iFZv_T8vVZdc"
      },
      "execution_count": 40,
      "outputs": []
    },
    {
      "cell_type": "code",
      "source": [
        "lambda_0 = 1\n",
        "n = 50\n",
        "alpha = 0.05\n",
        "z = ndtri(1-alpha/2)"
      ],
      "metadata": {
        "id": "UBjf19jqWdHv"
      },
      "execution_count": 41,
      "outputs": []
    },
    {
      "cell_type": "code",
      "source": [
        "reject_counter = 0\n",
        "retain_counter = 0\n",
        "for _ in range(100000):\n",
        "  samples = np.random.poisson(lam=lambda_0, size=n)\n",
        "\n",
        "  lambda_hat = samples.mean()\n",
        "  se_hat = (lambda_hat/n)**0.5\n",
        "\n",
        "  W = (lambda_hat - lambda_0)/se_hat\n",
        "\n",
        "  if abs(W)>z:\n",
        "    reject_counter += 1\n",
        "  else:\n",
        "    retain_counter += 1"
      ],
      "metadata": {
        "id": "zY6S3E1KVbvL"
      },
      "execution_count": 42,
      "outputs": []
    },
    {
      "cell_type": "code",
      "source": [
        "print(reject_counter/(reject_counter+retain_counter))"
      ],
      "metadata": {
        "colab": {
          "base_uri": "https://localhost:8080/"
        },
        "id": "yZgfZ2p0V6s9",
        "outputId": "9579bef7-e4b3-4048-8c4b-0a2b8fb58456"
      },
      "execution_count": 43,
      "outputs": [
        {
          "output_type": "stream",
          "name": "stdout",
          "text": [
            "0.05052\n"
          ]
        }
      ]
    }
  ]
}