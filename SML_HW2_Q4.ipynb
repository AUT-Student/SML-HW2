{
  "nbformat": 4,
  "nbformat_minor": 0,
  "metadata": {
    "colab": {
      "provenance": [],
      "toc_visible": true,
      "authorship_tag": "ABX9TyNCAhtUeu6305u6dVfqmMq3",
      "include_colab_link": true
    },
    "kernelspec": {
      "name": "python3",
      "display_name": "Python 3"
    },
    "language_info": {
      "name": "python"
    }
  },
  "cells": [
    {
      "cell_type": "markdown",
      "metadata": {
        "id": "view-in-github",
        "colab_type": "text"
      },
      "source": [
        "<a href=\"https://colab.research.google.com/github/AUT-Student/SML-HW2/blob/main/SML_HW2_Q4.ipynb\" target=\"_parent\"><img src=\"https://colab.research.google.com/assets/colab-badge.svg\" alt=\"Open In Colab\"/></a>"
      ]
    },
    {
      "cell_type": "markdown",
      "source": [
        "<center><b>In the name of God</b></center>\n",
        "\n",
        "<b>Course</b>: Statistical Machine Learning\n",
        "<br>\n",
        "<b>Description:</b> HomeWork 2 | Question 4\n",
        "<br>\n",
        "<b>Developer</b>: Alireza Mazochi (400131075)"
      ],
      "metadata": {
        "id": "WOZWzhal5C9J"
      }
    },
    {
      "cell_type": "code",
      "source": [
        "import pandas as pd\n",
        "import numpy as np\n",
        "import random"
      ],
      "metadata": {
        "id": "I9PRwNR-6XQD"
      },
      "execution_count": 1,
      "outputs": []
    },
    {
      "cell_type": "markdown",
      "source": [
        "# Dataset"
      ],
      "metadata": {
        "id": "ZNKZCsML6SRC"
      }
    },
    {
      "cell_type": "code",
      "execution_count": 2,
      "metadata": {
        "id": "Ve13hiTj4uRJ"
      },
      "outputs": [],
      "source": [
        "lasts = np.array([576, 635, 558, 578, 666, 580, 555, 661,\n",
        "                  651, 605, 653, 575, 545, 572, 594])\n",
        "gpas = np.array([3.39, 3.30, 2.81, 3.03, 3.44, 3.07, 3.00,\n",
        "                 3.43, 3.36, 3.13, 3.12, 2.74, 2.76, 2.88, 3.96])\n",
        "\n",
        "dataset = list(zip(lasts, gpas))"
      ]
    },
    {
      "cell_type": "markdown",
      "source": [
        "# Correlation"
      ],
      "metadata": {
        "id": "urTsFEZeKgrw"
      }
    },
    {
      "cell_type": "code",
      "source": [
        "def correlation(input):\n",
        "  xs = np.array([item[0] for item in input])\n",
        "  ys = np.array([item[1] for item in input])\n",
        "\n",
        "  x_mean = xs.mean()\n",
        "  y_mean = ys.mean()\n",
        "\n",
        "  return sum((xs-x_mean)*(ys-y_mean)) / ((sum((xs-x_mean)**2)*sum((ys-y_mean)**2))**0.5)"
      ],
      "metadata": {
        "id": "j-8WwOL3Dv4N"
      },
      "execution_count": 10,
      "outputs": []
    },
    {
      "cell_type": "code",
      "source": [
        "g = correlation"
      ],
      "metadata": {
        "id": "uzjzBWEL8kAK"
      },
      "execution_count": 11,
      "outputs": []
    },
    {
      "cell_type": "markdown",
      "source": [
        "# Bootstrap"
      ],
      "metadata": {
        "id": "BCQq7vIMK0hP"
      }
    },
    {
      "cell_type": "code",
      "source": [
        "def bootstrap(samples, g, B=100):\n",
        "  T_stars = []\n",
        "  n = len(samples)\n",
        "  for _ in range(B):\n",
        "    bootstrap_samples = np.array(random.choices(samples, k=n))\n",
        "    T_star = g(bootstrap_samples)\n",
        "    T_stars.append(T_star)\n",
        "\n",
        "  T_stars = np.array(T_stars)\n",
        "  bootstrap_variance = T_stars.var()\n",
        "\n",
        "  return bootstrap_variance"
      ],
      "metadata": {
        "id": "XJ0JeG8f8URw"
      },
      "execution_count": 3,
      "outputs": []
    },
    {
      "cell_type": "code",
      "source": [
        "bootstrap_se = bootstrap(dataset, g)**0.5\n",
        "g_estimation = g(dataset)"
      ],
      "metadata": {
        "id": "4go_XGwl8WsO"
      },
      "execution_count": 13,
      "outputs": []
    },
    {
      "cell_type": "code",
      "source": [
        "print(f\"Estimation = {g_estimation}, se = {bootstrap_se}\")"
      ],
      "metadata": {
        "colab": {
          "base_uri": "https://localhost:8080/"
        },
        "id": "Yig_jVwvo1iz",
        "outputId": "a37fb9ed-cf0c-48e8-9f5f-46b09f55fed3"
      },
      "execution_count": 14,
      "outputs": [
        {
          "output_type": "stream",
          "name": "stdout",
          "text": [
            "Estimation = 0.5459189161795885, se = 0.22333748636967565\n"
          ]
        }
      ]
    },
    {
      "cell_type": "markdown",
      "source": [
        "# Confidence Interval"
      ],
      "metadata": {
        "id": "Gk6a1LigKjHv"
      }
    },
    {
      "cell_type": "markdown",
      "source": [
        "## Normal"
      ],
      "metadata": {
        "id": "zC0ATFIy1ACi"
      }
    },
    {
      "cell_type": "code",
      "source": [
        "z = 1.96 # Z_alpha/2 = 0.05  "
      ],
      "metadata": {
        "id": "hVkCzDbYpKIq"
      },
      "execution_count": 15,
      "outputs": []
    },
    {
      "cell_type": "code",
      "source": [
        "print(g_estimation - z*bootstrap_se, g_estimation + z*bootstrap_se) "
      ],
      "metadata": {
        "colab": {
          "base_uri": "https://localhost:8080/"
        },
        "id": "gABEfr4qqSbk",
        "outputId": "80808720-3561-4f14-b367-86aa7820fb93"
      },
      "execution_count": 16,
      "outputs": [
        {
          "output_type": "stream",
          "name": "stdout",
          "text": [
            "0.10817744289502429 0.9836603894641528\n"
          ]
        }
      ]
    },
    {
      "cell_type": "markdown",
      "source": [
        "## Percentile Interval"
      ],
      "metadata": {
        "id": "b5XOvHFs1CEE"
      }
    },
    {
      "cell_type": "code",
      "source": [
        "def bootstrap_percentile_interval(samples, g, B=1000, alpha=0.05):\n",
        "  T_stars = []\n",
        "  n = len(samples)\n",
        "  for _ in range(B):\n",
        "    bootstrap_samples = np.array(random.choices(samples, k=n))\n",
        "    T_star = g(bootstrap_samples)\n",
        "    T_stars.append(T_star)\n",
        "\n",
        "  T_stars = np.array(T_stars)\n",
        "  T_stars.sort()\n",
        "\n",
        "  a = T_stars[int(alpha/2*B)]\n",
        "  b = T_stars[-int(alpha/2*B)]\n",
        "  return a, b"
      ],
      "metadata": {
        "id": "4JWIRsV4qp7j"
      },
      "execution_count": 17,
      "outputs": []
    },
    {
      "cell_type": "code",
      "source": [
        "bootstrap_percentile_interval(dataset, g)"
      ],
      "metadata": {
        "colab": {
          "base_uri": "https://localhost:8080/"
        },
        "id": "yU3XVVO4zvnp",
        "outputId": "863de939-781d-4ac1-9f05-71071bdeb260"
      },
      "execution_count": 18,
      "outputs": [
        {
          "output_type": "execute_result",
          "data": {
            "text/plain": [
              "(0.18039246403218764, 0.9436085760906912)"
            ]
          },
          "metadata": {},
          "execution_count": 18
        }
      ]
    },
    {
      "cell_type": "markdown",
      "source": [
        "## Pivotal Interval"
      ],
      "metadata": {
        "id": "BbMUEtNP1FFn"
      }
    },
    {
      "cell_type": "code",
      "source": [
        "def bootstrap_pivotal_interval(samples, g, B=1000, alpha=0.05):\n",
        "  T_stars = []\n",
        "  n = len(samples)\n",
        "  for _ in range(B):\n",
        "    bootstrap_samples = np.array(random.choices(samples, k=n))\n",
        "    T_star = g(bootstrap_samples)\n",
        "    T_stars.append(T_star)\n",
        "\n",
        "  T_stars = np.array(T_stars)\n",
        "  T_stars.sort()\n",
        "\n",
        "  a = 2*g(samples) - T_stars[-int(alpha/2*B)]\n",
        "  b = 2*g(samples) - T_stars[int(alpha/2*B)]\n",
        "  \n",
        "  return a, b"
      ],
      "metadata": {
        "id": "8Mee-egtz0AN"
      },
      "execution_count": 19,
      "outputs": []
    },
    {
      "cell_type": "code",
      "source": [
        "bootstrap_pivotal_interval(dataset, g)"
      ],
      "metadata": {
        "colab": {
          "base_uri": "https://localhost:8080/"
        },
        "id": "rq6scIZH2t9z",
        "outputId": "7225ba33-9de3-43ed-9b96-7d4ad92684ea"
      },
      "execution_count": 20,
      "outputs": [
        {
          "output_type": "execute_result",
          "data": {
            "text/plain": [
              "(0.16171912967763047, 0.8884257828700537)"
            ]
          },
          "metadata": {},
          "execution_count": 20
        }
      ]
    }
  ]
}