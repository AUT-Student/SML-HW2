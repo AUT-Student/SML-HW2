{
  "nbformat": 4,
  "nbformat_minor": 0,
  "metadata": {
    "colab": {
      "provenance": [],
      "toc_visible": true,
      "authorship_tag": "ABX9TyPN8yGxOL9ys9Vg00tT1DvP",
      "include_colab_link": true
    },
    "kernelspec": {
      "name": "python3",
      "display_name": "Python 3"
    },
    "language_info": {
      "name": "python"
    }
  },
  "cells": [
    {
      "cell_type": "markdown",
      "metadata": {
        "id": "view-in-github",
        "colab_type": "text"
      },
      "source": [
        "<a href=\"https://colab.research.google.com/github/AUT-Student/SML-HW2/blob/main/SML_HW2_Q5.ipynb\" target=\"_parent\"><img src=\"https://colab.research.google.com/assets/colab-badge.svg\" alt=\"Open In Colab\"/></a>"
      ]
    },
    {
      "cell_type": "markdown",
      "source": [
        "<center><b>In the name of God</b></center>\n",
        "\n",
        "<b>Course</b>: Statistical Machine Learning\n",
        "<br>\n",
        "<b>Description:</b> HomeWork 2 | Question 5\n",
        "<br>\n",
        "<b>Developer</b>: Alireza Mazochi (400131075)"
      ],
      "metadata": {
        "id": "Wnh_HWDOfQUG"
      }
    },
    {
      "cell_type": "code",
      "execution_count": 15,
      "metadata": {
        "id": "HbNTWsYAe2ib"
      },
      "outputs": [],
      "source": [
        "import pandas as pd\n",
        "import numpy as np\n",
        "import random\n",
        "import matplotlib.pyplot as plt"
      ]
    },
    {
      "cell_type": "markdown",
      "source": [
        "# Dataset"
      ],
      "metadata": {
        "id": "-apqUjxEfS3N"
      }
    },
    {
      "cell_type": "code",
      "source": [
        "np.random.seed(0)"
      ],
      "metadata": {
        "id": "avu_JejLf2J_"
      },
      "execution_count": 2,
      "outputs": []
    },
    {
      "cell_type": "code",
      "source": [
        "dataset = np.random.normal(loc=5, scale=1, size=100)"
      ],
      "metadata": {
        "id": "7A2e3_7xfUCz"
      },
      "execution_count": 3,
      "outputs": []
    },
    {
      "cell_type": "code",
      "source": [
        "dataset"
      ],
      "metadata": {
        "colab": {
          "base_uri": "https://localhost:8080/"
        },
        "id": "WlG8mAz8f7PR",
        "outputId": "0dcb598b-1e1d-47ad-8217-32450959f395"
      },
      "execution_count": 4,
      "outputs": [
        {
          "output_type": "execute_result",
          "data": {
            "text/plain": [
              "array([6.76405235, 5.40015721, 5.97873798, 7.2408932 , 6.86755799,\n",
              "       4.02272212, 5.95008842, 4.84864279, 4.89678115, 5.4105985 ,\n",
              "       5.14404357, 6.45427351, 5.76103773, 5.12167502, 5.44386323,\n",
              "       5.33367433, 6.49407907, 4.79484174, 5.3130677 , 4.14590426,\n",
              "       2.44701018, 5.6536186 , 5.8644362 , 4.25783498, 7.26975462,\n",
              "       3.54563433, 5.04575852, 4.81281615, 6.53277921, 6.46935877,\n",
              "       5.15494743, 5.37816252, 4.11221425, 3.01920353, 4.65208785,\n",
              "       5.15634897, 6.23029068, 6.20237985, 4.61267318, 4.69769725,\n",
              "       3.95144703, 3.57998206, 3.29372981, 6.9507754 , 4.49034782,\n",
              "       4.5619257 , 3.74720464, 5.77749036, 3.38610215, 4.78725972,\n",
              "       4.10453344, 5.3869025 , 4.48919486, 3.81936782, 4.97181777,\n",
              "       5.42833187, 5.06651722, 5.3024719 , 4.36567791, 4.63725883,\n",
              "       4.32753955, 4.64044684, 4.18685372, 3.2737174 , 5.17742614,\n",
              "       4.59821906, 3.36980165, 5.46278226, 4.09270164, 5.0519454 ,\n",
              "       5.72909056, 5.12898291, 6.13940068, 3.76517418, 5.40234164,\n",
              "       4.31518991, 4.12920285, 4.42115034, 4.68844747, 5.05616534,\n",
              "       3.83485016, 5.90082649, 5.46566244, 3.46375631, 6.48825219,\n",
              "       6.89588918, 6.17877957, 4.82007516, 3.92924738, 6.05445173,\n",
              "       4.59682305, 6.22244507, 5.20827498, 5.97663904, 5.3563664 ,\n",
              "       5.70657317, 5.01050002, 6.78587049, 5.12691209, 5.40198936])"
            ]
          },
          "metadata": {},
          "execution_count": 4
        }
      ]
    },
    {
      "cell_type": "markdown",
      "source": [
        "# Bootstrap"
      ],
      "metadata": {
        "id": "4vVLjw4SjGO-"
      }
    },
    {
      "cell_type": "code",
      "source": [
        "def bootstrap(samples, g, B=1000):\n",
        "  T_stars = []\n",
        "  n = len(samples)\n",
        "  for _ in range(B):\n",
        "    bootstrap_samples = np.array(random.choices(samples, k=n))\n",
        "    T_star = g(bootstrap_samples)\n",
        "    T_stars.append(T_star)\n",
        "\n",
        "  T_stars = np.array(T_stars)\n",
        "  bootstrap_variance = T_stars.var()\n",
        "\n",
        "  return bootstrap_variance"
      ],
      "metadata": {
        "id": "XRHDXDrNf8KZ"
      },
      "execution_count": 5,
      "outputs": []
    },
    {
      "cell_type": "code",
      "source": [
        "g = lambda samples: np.exp(samples.mean())"
      ],
      "metadata": {
        "id": "KTZAPvZPgNGU"
      },
      "execution_count": 10,
      "outputs": []
    },
    {
      "cell_type": "code",
      "source": [
        "bootstrap_se = bootstrap(dataset, g)**0.5\n",
        "g_estimation = g(dataset)"
      ],
      "metadata": {
        "id": "JXDNwGbbggE2"
      },
      "execution_count": 11,
      "outputs": []
    },
    {
      "cell_type": "code",
      "source": [
        "print(f\"Estimation = {g_estimation}, se = {bootstrap_se}\")"
      ],
      "metadata": {
        "colab": {
          "base_uri": "https://localhost:8080/"
        },
        "id": "earOgzBygrgf",
        "outputId": "a6cf0f7d-2d92-48db-e7da-17eb944a5cf4"
      },
      "execution_count": 12,
      "outputs": [
        {
          "output_type": "stream",
          "name": "stdout",
          "text": [
            "Estimation = 157.56026429637294, se = 16.660972206808225\n"
          ]
        }
      ]
    },
    {
      "cell_type": "code",
      "source": [
        "z = 1.88 # alpha/2 = 0.03"
      ],
      "metadata": {
        "id": "hVkCzDbYpKIq"
      },
      "execution_count": 13,
      "outputs": []
    },
    {
      "cell_type": "code",
      "source": [
        "print(g_estimation - z*bootstrap_se, g_estimation + z*bootstrap_se) "
      ],
      "metadata": {
        "colab": {
          "base_uri": "https://localhost:8080/"
        },
        "id": "gABEfr4qqSbk",
        "outputId": "0113f525-03c6-4dd3-8842-c43f0a926042"
      },
      "execution_count": 14,
      "outputs": [
        {
          "output_type": "stream",
          "name": "stdout",
          "text": [
            "126.23763654757347 188.8828920451724\n"
          ]
        }
      ]
    },
    {
      "cell_type": "markdown",
      "source": [
        "# Bootstrap Histogram"
      ],
      "metadata": {
        "id": "AZkKjIM9jJIn"
      }
    },
    {
      "cell_type": "code",
      "source": [
        "samples = dataset\n",
        "B=1000\n",
        "\n",
        "T_stars = []\n",
        "n = len(samples)\n",
        "for _ in range(B):\n",
        "  bootstrap_samples = np.array(random.choices(samples, k=n))\n",
        "  T_star = g(bootstrap_samples)\n",
        "  T_stars.append(T_star)\n",
        "\n",
        "T_stars = np.array(T_stars)\n",
        "plt.xlabel(r'$\\hat{\\theta}$')\n",
        "plt.ylabel(\"Probability\")\n",
        "plt.title(\"Bootstrap Histogram\")\n",
        "\n",
        "bins = np.linspace(100, 200, 20)\n",
        "\n",
        "plt.hist(T_stars, bins=bins, alpha=0.3, color=\"blue\", label=r\"Estimation of $\\hat{\\theta}$\", density=True)\n",
        "\n",
        "theta_hat_samples = []\n",
        "for i in range(1000):\n",
        "  theta_hat_samples.append(np.exp(np.random.normal(loc=5, scale=1, size=100).mean()))\n",
        "\n",
        "plt.hist(theta_hat_samples, bins=bins, alpha=0.3, color=\"red\", label=r\"True Sampling of $\\hat{\\theta}$\", density=True)\n",
        "plt.legend()\n",
        "plt.gcf().set_size_inches(12,8)\n",
        "plt.show()"
      ],
      "metadata": {
        "colab": {
          "base_uri": "https://localhost:8080/",
          "height": 519
        },
        "id": "eDQVCWU5jLAZ",
        "outputId": "bb0405d0-ad59-4996-e202-2f35ef9b1b5d"
      },
      "execution_count": 46,
      "outputs": [
        {
          "output_type": "display_data",
          "data": {
            "text/plain": [
              "<Figure size 864x576 with 1 Axes>"
            ],
            "image/png": "[encoded data removed]"
          },
          "metadata": {
            "needs_background": "light"
          }
        }
      ]
    }
  ]
}